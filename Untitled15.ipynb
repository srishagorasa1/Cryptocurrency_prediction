{
  "nbformat": 4,
  "nbformat_minor": 0,
  "metadata": {
    "colab": {
      "name": "Untitled15.ipynb",
      "provenance": [],
      "collapsed_sections": [],
      "authorship_tag": "ABX9TyMlezg2zRKDdiPHjSCUdr+x",
      "include_colab_link": true
    },
    "kernelspec": {
      "name": "python3",
      "display_name": "Python 3"
    },
    "language_info": {
      "name": "python"
    }
  },
  "cells": [
    {
      "cell_type": "markdown",
      "metadata": {
        "id": "view-in-github",
        "colab_type": "text"
      },
      "source": [
        "<a href=\"https://colab.research.google.com/github/srishagorasa1/Cryptocurrency_prediction/blob/main/Untitled15.ipynb\" target=\"_parent\"><img src=\"https://colab.research.google.com/assets/colab-badge.svg\" alt=\"Open In Colab\"/></a>"
      ]
    },
    {
      "cell_type": "code",
      "metadata": {
        "id": "68_hWS622W-x"
      },
      "source": [
        "import json\n",
        "import requests\n",
        "from keras.models import Sequential\n",
        "from keras.layers import Activation, Dense, Dropout, LSTM\n",
        "import matplotlib.pyplot as plt\n",
        "import numpy as np\n",
        "import pandas as pd\n",
        "import seaborn as sns\n",
        "from sklearn.metrics import mean_absolute_error\n",
        "%matplotlib inline"
      ],
      "execution_count": null,
      "outputs": []
    },
    {
      "cell_type": "code",
      "metadata": {
        "id": "YUGm7X2a2o7I"
      },
      "source": [
        "\n",
        "endpoint = 'https://min-api.cryptocompare.com/data/histoday'\n",
        "res = requests.get(endpoint + '?fsym=BTC&tsym=USD&limit=2000')\n",
        "hist = pd.DataFrame(json.loads(res.content)['Data'])\n",
        "hist = hist.set_index('time')\n",
        "hist.index = pd.to_datetime(hist.index, unit='s')\n",
        "target_col = 'close'"
      ],
      "execution_count": null,
      "outputs": []
    },
    {
      "cell_type": "code",
      "metadata": {
        "colab": {
          "base_uri": "https://localhost:8080/",
          "height": 450
        },
        "id": "zJLSmRWF2sRY",
        "outputId": "20eb2440-2f94-4ff5-a472-ba2934831a55"
      },
      "source": [
        "hist"
      ],
      "execution_count": null,
      "outputs": [
        {
          "output_type": "execute_result",
          "data": {
            "text/html": [
              "<div>\n",
              "<style scoped>\n",
              "    .dataframe tbody tr th:only-of-type {\n",
              "        vertical-align: middle;\n",
              "    }\n",
              "\n",
              "    .dataframe tbody tr th {\n",
              "        vertical-align: top;\n",
              "    }\n",
              "\n",
              "    .dataframe thead th {\n",
              "        text-align: right;\n",
              "    }\n",
              "</style>\n",
              "<table border=\"1\" class=\"dataframe\">\n",
              "  <thead>\n",
              "    <tr style=\"text-align: right;\">\n",
              "      <th></th>\n",
              "      <th>high</th>\n",
              "      <th>low</th>\n",
              "      <th>open</th>\n",
              "      <th>volumefrom</th>\n",
              "      <th>volumeto</th>\n",
              "      <th>close</th>\n",
              "      <th>conversionType</th>\n",
              "      <th>conversionSymbol</th>\n",
              "    </tr>\n",
              "    <tr>\n",
              "      <th>time</th>\n",
              "      <th></th>\n",
              "      <th></th>\n",
              "      <th></th>\n",
              "      <th></th>\n",
              "      <th></th>\n",
              "      <th></th>\n",
              "      <th></th>\n",
              "      <th></th>\n",
              "    </tr>\n",
              "  </thead>\n",
              "  <tbody>\n",
              "    <tr>\n",
              "      <th>2015-11-21</th>\n",
              "      <td>328.42</td>\n",
              "      <td>318.37</td>\n",
              "      <td>321.12</td>\n",
              "      <td>44997.78</td>\n",
              "      <td>1.465300e+07</td>\n",
              "      <td>324.70</td>\n",
              "      <td>direct</td>\n",
              "      <td></td>\n",
              "    </tr>\n",
              "    <tr>\n",
              "      <th>2015-11-22</th>\n",
              "      <td>326.94</td>\n",
              "      <td>319.35</td>\n",
              "      <td>324.70</td>\n",
              "      <td>36748.64</td>\n",
              "      <td>1.191563e+07</td>\n",
              "      <td>322.78</td>\n",
              "      <td>direct</td>\n",
              "      <td></td>\n",
              "    </tr>\n",
              "    <tr>\n",
              "      <th>2015-11-23</th>\n",
              "      <td>325.00</td>\n",
              "      <td>319.89</td>\n",
              "      <td>322.78</td>\n",
              "      <td>42733.54</td>\n",
              "      <td>1.383902e+07</td>\n",
              "      <td>322.12</td>\n",
              "      <td>direct</td>\n",
              "      <td></td>\n",
              "    </tr>\n",
              "    <tr>\n",
              "      <th>2015-11-24</th>\n",
              "      <td>323.26</td>\n",
              "      <td>315.54</td>\n",
              "      <td>322.12</td>\n",
              "      <td>50660.16</td>\n",
              "      <td>1.628294e+07</td>\n",
              "      <td>318.35</td>\n",
              "      <td>direct</td>\n",
              "      <td></td>\n",
              "    </tr>\n",
              "    <tr>\n",
              "      <th>2015-11-25</th>\n",
              "      <td>330.04</td>\n",
              "      <td>315.69</td>\n",
              "      <td>318.35</td>\n",
              "      <td>77684.42</td>\n",
              "      <td>2.520093e+07</td>\n",
              "      <td>327.52</td>\n",
              "      <td>direct</td>\n",
              "      <td></td>\n",
              "    </tr>\n",
              "    <tr>\n",
              "      <th>...</th>\n",
              "      <td>...</td>\n",
              "      <td>...</td>\n",
              "      <td>...</td>\n",
              "      <td>...</td>\n",
              "      <td>...</td>\n",
              "      <td>...</td>\n",
              "      <td>...</td>\n",
              "      <td>...</td>\n",
              "    </tr>\n",
              "    <tr>\n",
              "      <th>2021-05-09</th>\n",
              "      <td>59276.99</td>\n",
              "      <td>56350.98</td>\n",
              "      <td>58943.13</td>\n",
              "      <td>45716.87</td>\n",
              "      <td>2.645394e+09</td>\n",
              "      <td>58294.18</td>\n",
              "      <td>direct</td>\n",
              "      <td></td>\n",
              "    </tr>\n",
              "    <tr>\n",
              "      <th>2021-05-10</th>\n",
              "      <td>59587.03</td>\n",
              "      <td>54239.16</td>\n",
              "      <td>58294.18</td>\n",
              "      <td>71168.05</td>\n",
              "      <td>4.067497e+09</td>\n",
              "      <td>55870.01</td>\n",
              "      <td>direct</td>\n",
              "      <td></td>\n",
              "    </tr>\n",
              "    <tr>\n",
              "      <th>2021-05-11</th>\n",
              "      <td>56928.37</td>\n",
              "      <td>54490.38</td>\n",
              "      <td>55870.01</td>\n",
              "      <td>42949.94</td>\n",
              "      <td>2.395231e+09</td>\n",
              "      <td>56747.52</td>\n",
              "      <td>direct</td>\n",
              "      <td></td>\n",
              "    </tr>\n",
              "    <tr>\n",
              "      <th>2021-05-12</th>\n",
              "      <td>58005.44</td>\n",
              "      <td>49182.89</td>\n",
              "      <td>56747.52</td>\n",
              "      <td>74345.74</td>\n",
              "      <td>4.035173e+09</td>\n",
              "      <td>49504.08</td>\n",
              "      <td>direct</td>\n",
              "      <td></td>\n",
              "    </tr>\n",
              "    <tr>\n",
              "      <th>2021-05-13</th>\n",
              "      <td>51377.99</td>\n",
              "      <td>47332.48</td>\n",
              "      <td>49504.08</td>\n",
              "      <td>50666.74</td>\n",
              "      <td>2.520405e+09</td>\n",
              "      <td>50576.49</td>\n",
              "      <td>direct</td>\n",
              "      <td></td>\n",
              "    </tr>\n",
              "  </tbody>\n",
              "</table>\n",
              "<p>2001 rows × 8 columns</p>\n",
              "</div>"
            ],
            "text/plain": [
              "                high       low  ...  conversionType  conversionSymbol\n",
              "time                            ...                                  \n",
              "2015-11-21    328.42    318.37  ...          direct                  \n",
              "2015-11-22    326.94    319.35  ...          direct                  \n",
              "2015-11-23    325.00    319.89  ...          direct                  \n",
              "2015-11-24    323.26    315.54  ...          direct                  \n",
              "2015-11-25    330.04    315.69  ...          direct                  \n",
              "...              ...       ...  ...             ...               ...\n",
              "2021-05-09  59276.99  56350.98  ...          direct                  \n",
              "2021-05-10  59587.03  54239.16  ...          direct                  \n",
              "2021-05-11  56928.37  54490.38  ...          direct                  \n",
              "2021-05-12  58005.44  49182.89  ...          direct                  \n",
              "2021-05-13  51377.99  47332.48  ...          direct                  \n",
              "\n",
              "[2001 rows x 8 columns]"
            ]
          },
          "metadata": {
            "tags": []
          },
          "execution_count": 60
        }
      ]
    },
    {
      "cell_type": "code",
      "metadata": {
        "id": "BHTEJhXu21qx"
      },
      "source": [
        "def train_test_split(df, test_size=0.2):\n",
        "    split_row = len(df) - int(test_size * len(df))\n",
        "    train_data = df.iloc[:split_row]\n",
        "    test_data = df.iloc[split_row:]\n",
        "    return train_data, test_data"
      ],
      "execution_count": null,
      "outputs": []
    },
    {
      "cell_type": "code",
      "metadata": {
        "id": "YAly6d5t232M"
      },
      "source": [
        "train, test = train_test_split(hist, test_size=0.2)"
      ],
      "execution_count": null,
      "outputs": []
    },
    {
      "cell_type": "code",
      "metadata": {
        "id": "FpK5wJVw29B1"
      },
      "source": [
        "def line_plot(line1, line2, label1=None, label2=None, title='', lw=2):\n",
        "    fig, ax = plt.subplots(1, figsize=(13, 7))\n",
        "    ax.plot(line1, label=label1, linewidth=lw)\n",
        "    ax.plot(line2, label=label2, linewidth=lw)\n",
        "    ax.set_ylabel('price [CAD]', fontsize=14)\n",
        "    ax.set_title(title, fontsize=16)\n",
        "    ax.legend(loc='best', fontsize=16);"
      ],
      "execution_count": null,
      "outputs": []
    },
    {
      "cell_type": "code",
      "metadata": {
        "colab": {
          "base_uri": "https://localhost:8080/",
          "height": 428
        },
        "id": "d6TWzyBv3AfY",
        "outputId": "efd6d659-272b-48b1-ddaf-4fb38ff091c7"
      },
      "source": [
        "line_plot(train[target_col], test[target_col], 'Training', 'Test', title='')"
      ],
      "execution_count": null,
      "outputs": [
        {
          "output_type": "display_data",
          "data": {
            "image/png": "[encoded data removed]",
            "text/plain": [
              "<Figure size 936x504 with 1 Axes>"
            ]
          },
          "metadata": {
            "tags": [],
            "needs_background": "light"
          }
        }
      ]
    },
    {
      "cell_type": "code",
      "metadata": {
        "id": "ymx3uox53J9w"
      },
      "source": [
        "def normalise_zero_base(df):\n",
        "    return df / df.iloc[0] - 1\n",
        "\n",
        "def normalise_min_max(df):\n",
        "    return (df - df.min()) / (data.max() - df.min())"
      ],
      "execution_count": null,
      "outputs": []
    },
    {
      "cell_type": "code",
      "metadata": {
        "id": "LEtyH7oV3LLE"
      },
      "source": [
        "def extract_window_data(df, window_len=5, zero_base=True):\n",
        "    window_data = []\n",
        "    for idx in range(len(df) - window_len):\n",
        "        tmp = df[idx: (idx + window_len)].copy()\n",
        "        if zero_base:\n",
        "            tmp = normalise_zero_base(tmp)\n",
        "        window_data.append(tmp.values)\n",
        "    return np.array(window_data)"
      ],
      "execution_count": null,
      "outputs": []
    },
    {
      "cell_type": "code",
      "metadata": {
        "id": "RYj-jsFQ3P-h"
      },
      "source": [
        "def prepare_data(df, target_col, window_len=10, zero_base=True, test_size=0.2):\n",
        "    train_data, test_data = train_test_split(df, test_size=test_size)\n",
        "    X_train = extract_window_data(train_data, window_len, zero_base)\n",
        "    X_test = extract_window_data(test_data, window_len, zero_base)\n",
        "    y_train = train_data[target_col][window_len:].values\n",
        "    y_test = test_data[target_col][window_len:].values\n",
        "    if zero_base:\n",
        "        y_train = y_train / train_data[target_col][:-window_len].values - 1\n",
        "        y_test = y_test / test_data[target_col][:-window_len].values - 1\n",
        "\n",
        "    return train_data, test_data, X_train, X_test, y_train, y_test"
      ],
      "execution_count": null,
      "outputs": []
    },
    {
      "cell_type": "code",
      "metadata": {
        "id": "iDwHlNuT3Tqt"
      },
      "source": [
        "def build_lstm_model(input_data, output_size, neurons=100, activ_func='linear',\n",
        "                     dropout=0.2, loss='mse', optimizer='adam'):\n",
        "    model = Sequential()\n",
        "    model.add(LSTM(neurons, input_shape=(input_data.shape[1], input_data.shape[2])))\n",
        "    model.add(Dropout(dropout))\n",
        "    model.add(Dense(units=output_size))\n",
        "    model.add(Activation(activ_func))\n",
        "\n",
        "    model.compile(loss=loss, optimizer=optimizer)\n",
        "    return model"
      ],
      "execution_count": null,
      "outputs": []
    },
    {
      "cell_type": "code",
      "metadata": {
        "id": "T2fMBTxu3Xnd"
      },
      "source": [
        "np.random.seed(42)\n",
        "window_len = 5\n",
        "test_size = 0.2\n",
        "zero_base = True\n",
        "lstm_neurons = 100\n",
        "epochs = 20\n",
        "batch_size = 32\n",
        "loss = 'mse'\n",
        "dropout = 0.2\n",
        "optimizer = 'adam'"
      ],
      "execution_count": null,
      "outputs": []
    },
    {
      "cell_type": "code",
      "metadata": {
        "id": "KpsRB1zv3chz"
      },
      "source": [
        "train, test, X_train, X_test, y_train, y_test = prepare_data(\n",
        "  hist, target_col, window_len=window_len, zero_base=zero_base, test_size=test_size)"
      ],
      "execution_count": null,
      "outputs": []
    },
    {
      "cell_type": "code",
      "metadata": {
        "id": "ThAbZTgv3knM"
      },
      "source": [
        "model = build_lstm_model(\n",
        "    X_train, output_size=1, neurons=lstm_neurons, dropout=dropout, loss=loss,\n",
        "    optimizer=optimizer)\n",
        "history = model.fit(\n",
        "    X_train, y_train, epochs=epochs, batch_size=batch_size, verbose=1, shuffle=True)"
      ],
      "execution_count": null,
      "outputs": []
    },
    {
      "cell_type": "code",
      "metadata": {
        "id": "_tJze0FB4LhI"
      },
      "source": [
        "targets = test[target_col][window_len:]\n",
        "preds = model.predict(X_test).squeeze()\n",
        "mean_absolute_error(preds, y_test)"
      ],
      "execution_count": null,
      "outputs": []
    },
    {
      "cell_type": "code",
      "metadata": {
        "id": "9t_FHfHR4Me6"
      },
      "source": [
        "preds = test[target_col].values[:-window_len] * (preds + 1)\n",
        "preds = pd.Series(index=targets.index, data=preds)\n",
        "line_plot(targets, preds, 'actual', 'prediction', lw=3)"
      ],
      "execution_count": null,
      "outputs": []
    }
  ]
}